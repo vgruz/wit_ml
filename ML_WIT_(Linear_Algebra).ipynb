{
  "nbformat": 4,
  "nbformat_minor": 0,
  "metadata": {
    "colab": {
      "provenance": [],
      "authorship_tag": "ABX9TyN1ChMH2Dm8qA9tTDvEl+7J",
      "include_colab_link": true
    },
    "kernelspec": {
      "name": "python3",
      "display_name": "Python 3"
    },
    "language_info": {
      "name": "python"
    }
  },
  "cells": [
    {
      "cell_type": "markdown",
      "metadata": {
        "id": "view-in-github",
        "colab_type": "text"
      },
      "source": [
        "<a href=\"https://colab.research.google.com/github/vgruz/wit_ml/blob/main/ML_WIT_(Linear_Algebra).ipynb\" target=\"_parent\"><img src=\"https://colab.research.google.com/assets/colab-badge.svg\" alt=\"Open In Colab\"/></a>"
      ]
    },
    {
      "cell_type": "code",
      "execution_count": 19,
      "metadata": {
        "id": "6KCInofymFGF"
      },
      "outputs": [],
      "source": [
        "import numpy as np\n",
        "from sklearn.metrics.pairwise import cosine_similarity\n",
        "import time"
      ]
    },
    {
      "cell_type": "markdown",
      "source": [
        "# Matrix Operations"
      ],
      "metadata": {
        "id": "6BrjdkHz_CCi"
      }
    },
    {
      "cell_type": "code",
      "source": [
        "a = np.array([[1, 2, 3], [2, 5, 6], [6, 7, 4]])\n",
        "print(f\"Matrix:\\n {a}\")"
      ],
      "metadata": {
        "colab": {
          "base_uri": "https://localhost:8080/"
        },
        "id": "eUPuQ4i-_FYT",
        "outputId": "9ae26441-930b-4430-aa97-bb388390ba53"
      },
      "execution_count": null,
      "outputs": [
        {
          "output_type": "stream",
          "name": "stdout",
          "text": [
            "Matrix:\n",
            " [[1 2 3]\n",
            " [2 5 6]\n",
            " [6 7 4]]\n"
          ]
        }
      ]
    },
    {
      "cell_type": "code",
      "source": [
        "b = np.eye(5)\n",
        "print(f\"Eye Matrix:\\n {b}\")"
      ],
      "metadata": {
        "colab": {
          "base_uri": "https://localhost:8080/"
        },
        "id": "ACVposV-CPml",
        "outputId": "87177887-c69d-4ca1-a3a1-1bb0e215bbe1"
      },
      "execution_count": null,
      "outputs": [
        {
          "output_type": "stream",
          "name": "stdout",
          "text": [
            "Eye Matrix:\n",
            " [[1. 0. 0. 0. 0.]\n",
            " [0. 1. 0. 0. 0.]\n",
            " [0. 0. 1. 0. 0.]\n",
            " [0. 0. 0. 1. 0.]\n",
            " [0. 0. 0. 0. 1.]]\n"
          ]
        }
      ]
    },
    {
      "cell_type": "code",
      "source": [
        "c = np.ones((7, 5))\n",
        "print(f\"Ones Matrix:\\n {c}\")"
      ],
      "metadata": {
        "colab": {
          "base_uri": "https://localhost:8080/"
        },
        "id": "-r-7M7A0Cfx9",
        "outputId": "c80366eb-2374-4512-efc9-4786ef8e58a0"
      },
      "execution_count": null,
      "outputs": [
        {
          "output_type": "stream",
          "name": "stdout",
          "text": [
            "Ones Matrix:\n",
            " [[1. 1. 1. 1. 1.]\n",
            " [1. 1. 1. 1. 1.]\n",
            " [1. 1. 1. 1. 1.]\n",
            " [1. 1. 1. 1. 1.]\n",
            " [1. 1. 1. 1. 1.]\n",
            " [1. 1. 1. 1. 1.]\n",
            " [1. 1. 1. 1. 1.]]\n"
          ]
        }
      ]
    },
    {
      "cell_type": "code",
      "source": [
        "v = np.arange(0, 24, 2)\n",
        "print(f\"Vector-Column:\\n {v}\")\n",
        "print(f\"2-D Array:\\n {v.reshape(-1,12)}\")"
      ],
      "metadata": {
        "colab": {
          "base_uri": "https://localhost:8080/"
        },
        "id": "iXwXicisCpFO",
        "outputId": "4e954931-98e6-44ba-d67f-157cc3474fbd"
      },
      "execution_count": null,
      "outputs": [
        {
          "output_type": "stream",
          "name": "stdout",
          "text": [
            "Vector-Column:\n",
            " [ 0  2  4  6  8 10 12 14 16 18 20 22]\n",
            "2-D Array:\n",
            " [[ 0  2  4  6  8 10 12 14 16 18 20 22]]\n"
          ]
        }
      ]
    },
    {
      "cell_type": "code",
      "source": [
        "v.T"
      ],
      "metadata": {
        "colab": {
          "base_uri": "https://localhost:8080/"
        },
        "id": "RQykf7DLEkT1",
        "outputId": "ae275301-5695-4a57-c3f7-3ee96c3570f8"
      },
      "execution_count": null,
      "outputs": [
        {
          "output_type": "execute_result",
          "data": {
            "text/plain": [
              "array([ 0,  2,  4,  6,  8, 10, 12, 14, 16, 18, 20, 22])"
            ]
          },
          "metadata": {},
          "execution_count": 64
        }
      ]
    },
    {
      "cell_type": "code",
      "source": [
        "v.reshape(-1,12).T"
      ],
      "metadata": {
        "colab": {
          "base_uri": "https://localhost:8080/"
        },
        "id": "l-uZCzmhEmZc",
        "outputId": "aa5ef271-0c1a-4d06-b9d3-dbbfc0c953a3"
      },
      "execution_count": null,
      "outputs": [
        {
          "output_type": "execute_result",
          "data": {
            "text/plain": [
              "array([[ 0],\n",
              "       [ 2],\n",
              "       [ 4],\n",
              "       [ 6],\n",
              "       [ 8],\n",
              "       [10],\n",
              "       [12],\n",
              "       [14],\n",
              "       [16],\n",
              "       [18],\n",
              "       [20],\n",
              "       [22]])"
            ]
          },
          "metadata": {},
          "execution_count": 65
        }
      ]
    },
    {
      "cell_type": "code",
      "source": [
        "d = v.reshape((3, 4))\n",
        "print(f\"Matrix:\\n {d}\")"
      ],
      "metadata": {
        "colab": {
          "base_uri": "https://localhost:8080/"
        },
        "id": "GPFSJ1TLDPPP",
        "outputId": "0da6a11d-b89f-477e-a952-4d81113f88d4"
      },
      "execution_count": null,
      "outputs": [
        {
          "output_type": "stream",
          "name": "stdout",
          "text": [
            "Matrix:\n",
            " [[ 0  2  4  6]\n",
            " [ 8 10 12 14]\n",
            " [16 18 20 22]]\n"
          ]
        }
      ]
    },
    {
      "cell_type": "markdown",
      "source": [
        "You can extract entire rows or columns from a matrix using the expressions array[i, :] or array[:, j], respectively:"
      ],
      "metadata": {
        "id": "x7P46_43DeEe"
      }
    },
    {
      "cell_type": "code",
      "source": [
        "print(f\"Second row: {d[1, :]}\")\n",
        "print(f\"Fourth column: {d[:, 3]}\")"
      ],
      "metadata": {
        "colab": {
          "base_uri": "https://localhost:8080/"
        },
        "id": "4_-p19zlDimO",
        "outputId": "8ee812cf-c147-4a35-a6c5-78cab077be8d"
      },
      "execution_count": null,
      "outputs": [
        {
          "output_type": "stream",
          "name": "stdout",
          "text": [
            "Second row: [ 8 10 12 14]\n",
            "Fourth column: [ 6 14 22]\n"
          ]
        }
      ]
    },
    {
      "cell_type": "markdown",
      "source": [
        "Another way to access elements is by using the expression __`array[list1, list2]`__, where __`list1`__ and __`list2`__ are lists of integers. With this kind of indexing, both lists are traversed simultaneously, and the elements of the matrix at the corresponding coordinates are returned. The following example illustrates how this indexing mechanism works more clearly:"
      ],
      "metadata": {
        "id": "3R-mIuSvEA8u"
      }
    },
    {
      "cell_type": "code",
      "source": [
        "d[[1, 2], [3, 0]]"
      ],
      "metadata": {
        "colab": {
          "base_uri": "https://localhost:8080/"
        },
        "id": "vO88o6toEIcm",
        "outputId": "35752ffe-dbff-4139-ef3e-27e48c5ac70e"
      },
      "execution_count": null,
      "outputs": [
        {
          "output_type": "execute_result",
          "data": {
            "text/plain": [
              "array([14, 16])"
            ]
          },
          "metadata": {},
          "execution_count": 62
        }
      ]
    },
    {
      "cell_type": "markdown",
      "source": [
        "### Determinant\n",
        "\n"
      ],
      "metadata": {
        "id": "KTHqwn43CDfx"
      }
    },
    {
      "cell_type": "markdown",
      "source": [
        "---\n",
        "\n",
        "__Reminder of the theory.__ For square matrices, there exists the concept of a __determinant__.\n",
        "\n",
        "Let $A$ be a square matrix. The __determinant__ (or __det__) of the matrix $A \\in \\mathbb{R}^{n \\times n}$ is defined as the number\n",
        "\n",
        "$$\n",
        "\\det A = \\sum_{\\alpha_{1}, \\alpha_{2}, \\dots, \\alpha_{n}} (-1)^{N(\\alpha_{1}, \\alpha_{2}, \\dots, \\alpha_{n})} \\cdot a_{\\alpha_{1} 1} \\cdot \\cdot \\cdot a_{\\alpha_{n} n},\n",
        "$$\n",
        "\n",
        "where $\\alpha_{1}, \\alpha_{2}, \\dots, \\alpha_{n}$ is a permutation of the numbers from $1$ to $n$, and $N(\\alpha_{1}, \\alpha_{2}, \\dots, \\alpha_{n})$ is the number of inversions in the permutation. The summation is carried out over all possible permutations of length $n$.\n",
        "\n",
        "_Do not worry if this definition isn't entirely clear — we won't need it in this exact form later._\n",
        "\n",
        "For example, for a $2 \\times 2$ matrix:\n",
        "\n",
        "$$\n",
        "\\det \\left( \\begin{array}{cc} a_{11} & a_{12} \\\\ a_{21} & a_{22}  \\end{array} \\right) = a_{11} a_{22} - a_{12} a_{21}\n",
        "$$\n",
        "\n",
        "Calculating a determinant directly from the definition requires on the order of $n!$ operations, so methods have been developed that allow for fast and efficient computation.\n",
        "\n",
        "In `NumPy`, the determinant of a matrix is calculated using the function __`numpy.linalg.det(a)`__, where __`a`__ is the input matrix."
      ],
      "metadata": {
        "id": "TplqhnEwBHqv"
      }
    },
    {
      "cell_type": "code",
      "source": [
        "a = np.array([[1, 2, 1], [1, 1, 4], [2, 3, 6]], dtype=np.float32)\n",
        "det = np.linalg.det(a)\n",
        "det"
      ],
      "metadata": {
        "colab": {
          "base_uri": "https://localhost:8080/"
        },
        "id": "XEMjKVcIBG-_",
        "outputId": "0768dfdf-e268-4b62-f4ea-18176a09dc4f"
      },
      "execution_count": null,
      "outputs": [
        {
          "output_type": "execute_result",
          "data": {
            "text/plain": [
              "np.float32(-1.0)"
            ]
          },
          "metadata": {},
          "execution_count": 5
        }
      ]
    },
    {
      "cell_type": "markdown",
      "source": [
        "\n",
        "\n",
        "Let's look at an interesting property of the determinant. Suppose we have a parallelogram with vertices at the points $(0, 0), (c,d), (a+c, b+d), (a, b)$ (the vertices are given in clockwise order). Then the area of this parallelogram can be calculated as the absolute value of the determinant of the matrix  \n",
        "$$\n",
        "\\left( \\begin{array}{cc} a & c \\\\ b & d \\end{array} \\right).\n",
        "$$  \n",
        "Similarly, the volume of a parallelepiped can be expressed using the determinant of a $3 \\times 3$ matrix."
      ],
      "metadata": {
        "id": "MdEp11u6BkTD"
      }
    },
    {
      "cell_type": "markdown",
      "source": [
        "### Matrix Transpose"
      ],
      "metadata": {
        "id": "-SDsDhi5FUEj"
      }
    },
    {
      "cell_type": "markdown",
      "source": [
        "Theory Reminder. The transpose of a matrix $A^{T}$ is the matrix obtained from the original matrix $A$ by swapping rows with columns. Formally, the elements of the matrix $A^{T}$ are defined as $a^{T}{ij} = a{ji}$, where $a^{T}_{ij}$ is the element of $A^{T}$ located at the intersection of row $i$ and column $j$.\n",
        "\n",
        "In NumPy, the transpose of a matrix is computed using the function numpy.transpose() or the array.T method, where array is the given 2D array."
      ],
      "metadata": {
        "id": "YjPdPl6DFXgq"
      }
    },
    {
      "cell_type": "code",
      "source": [
        "a = np.array([[1, 2], [3, 4]])\n",
        "b = np.transpose(a)\n",
        "c = a.T"
      ],
      "metadata": {
        "id": "_TxCSCvHFWis"
      },
      "execution_count": null,
      "outputs": []
    },
    {
      "cell_type": "markdown",
      "source": [
        "# 1. Deep-ML Tasks\n"
      ],
      "metadata": {
        "id": "AXRFwTGZ-6A4"
      }
    },
    {
      "cell_type": "markdown",
      "source": [
        "[Calculate Cosine Similarity Between Vectors](https://www.deep-ml.com/problems/76?from=Machine%20Learning)"
      ],
      "metadata": {
        "id": "pCfliHJgwSnT"
      }
    },
    {
      "cell_type": "code",
      "source": [
        "def cosine_similarity_np(v1, v2):\n",
        "    # Check if input vectors are numpy arrays\n",
        "    if not isinstance(v1, np.ndarray) or not isinstance(v2, np.ndarray):\n",
        "        raise TypeError(\"Both inputs must be numpy arrays.\")\n",
        "\n",
        "    # Check for empty or all-zero vectors\n",
        "    if not np.any(v1) or not np.any(v2):\n",
        "        return -1\n",
        "\n",
        "    # Check for equal lengths\n",
        "    if v1.shape != v2.shape:\n",
        "        return -1\n",
        "\n",
        "    # Compute cosine similarity\n",
        "    norm_product = np.linalg.norm(v1) * np.linalg.norm(v2)\n",
        "    # Check divide-by-zero\n",
        "    if norm_product == 0:\n",
        "        return -1\n",
        "    similarity = np.dot(v1, v2) / norm_product\n",
        "\n",
        "    return np.round(similarity, 3)"
      ],
      "metadata": {
        "id": "hTCiytcGsZTl"
      },
      "execution_count": 18,
      "outputs": []
    },
    {
      "cell_type": "code",
      "source": [
        "\n",
        "def cosine_similarity_sklearn(v1, v2):\n",
        "    # Check if input vectors are numpy arrays\n",
        "    if not isinstance(v1, np.ndarray) or not isinstance(v2, np.ndarray):\n",
        "        raise TypeError(\"Both inputs must be numpy arrays.\")\n",
        "\n",
        "    # Check for empty or all-zero vectors\n",
        "    if not np.any(v1) or not np.any(v2):\n",
        "        return -1.0\n",
        "\n",
        "    # Check that the shapes match after flattening\n",
        "    if v1.shape != v2.shape:\n",
        "        return -1.0\n",
        "\n",
        "    sim = cosine_similarity(v1, v2)\n",
        "    return round(sim, 3)"
      ],
      "metadata": {
        "id": "wQ0USNfhtoc5"
      },
      "execution_count": 17,
      "outputs": []
    },
    {
      "cell_type": "code",
      "source": [
        "def cosine_similarity(v1, v2):\n",
        "    if v1.shape != v2.shape:\n",
        "        raise ValueError(\"Arrays must have the same shape\")\n",
        "\n",
        "    if v1.size == 0:\n",
        "        raise ValueError(\"Arrays cannot be empty\")\n",
        "\n",
        "    # Flatten arrays in case of 2D\n",
        "\n",
        "\n",
        "    dot_product = np.dot(v1, v2)\n",
        "    magnitude1 = np.sqrt(np.sum(v1**2))\n",
        "    magnitude2 = np.sqrt(np.sum(v2**2))\n",
        "\n",
        "    if magnitude1 == 0 or magnitude2 == 0:\n",
        "        raise ValueError(\"Vectors cannot have zero magnitude\")\n",
        "\n",
        "    return round(dot_product / (magnitude1 * magnitude2), 3)"
      ],
      "metadata": {
        "id": "kr8pzrnguAUz"
      },
      "execution_count": null,
      "outputs": []
    },
    {
      "cell_type": "code",
      "source": [
        "import math\n",
        "\n",
        "def cosine_similarity(v1, v2):\n",
        "    if len(v1) != len(v2):\n",
        "        raise ValueError(\"Vectors must have the same length\")\n",
        "\n",
        "    if len(v1) == 0:\n",
        "        raise ValueError(\"Vectors cannot be empty\")\n",
        "\n",
        "    dot_product = 0\n",
        "    magnitude1 = 0\n",
        "    magnitude2 = 0\n",
        "\n",
        "    for a, b in zip(v1, v2):\n",
        "        dot_product += a * b\n",
        "        magnitude1 += a * a\n",
        "        magnitude2 += b * b\n",
        "\n",
        "    magnitude1 = math.sqrt(magnitude1)\n",
        "    magnitude2 = math.sqrt(magnitude2)\n",
        "\n",
        "    if magnitude1 == 0 or magnitude2 == 0:\n",
        "        raise ValueError(\"Vectors cannot have zero magnitude\")\n",
        "\n",
        "    return round(dot_product / (magnitude1 * magnitude2), 3)"
      ],
      "metadata": {
        "id": "UTOj_Tozc82k"
      },
      "execution_count": 21,
      "outputs": []
    },
    {
      "cell_type": "code",
      "source": [
        "size = 10_000_000\n",
        "v1 = np.random.rand(size)\n",
        "v2 = np.random.rand(size)\n",
        "\n",
        "\n",
        "def check_time(func, name):\n",
        "    start = time.time()\n",
        "    result = func(v1, v2)\n",
        "    elapsed = time.time() - start\n",
        "    print(f\"{name.ljust(30)}: {elapsed:.4f} sec | similarity: {result}\")\n",
        "\n",
        "\n",
        "print(f\"Check cosine similarity functions with {size:.0f} element:\\n\")\n",
        "check_time(cosine_similarity, \"Iterative Solution Function\")\n",
        "check_time(cosine_similarity_np, \"NumPy Function\")\n",
        "check_time(cosine_similarity_sklearn, \"Scikit-learn Function\")\n"
      ],
      "metadata": {
        "colab": {
          "base_uri": "https://localhost:8080/"
        },
        "id": "_rP-dSbIuKqH",
        "outputId": "f0f44075-3dd2-409a-8a84-8cdd04814b9b"
      },
      "execution_count": 23,
      "outputs": [
        {
          "output_type": "stream",
          "name": "stdout",
          "text": [
            "Check cosine similarity functions with 10000000 element:\n",
            "\n",
            "Iterative Solution Function   : 4.9491 sec | similarity: 0.75\n",
            "NumPy Function                : 0.0538 sec | similarity: 0.75\n",
            "Scikit-learn Function         : 6.5396 sec | similarity: 0.75\n"
          ]
        }
      ]
    },
    {
      "cell_type": "markdown",
      "source": [
        "Eigen-Values and Eigen-Vectors"
      ],
      "metadata": {
        "id": "YLBWpiQtitr5"
      }
    },
    {
      "cell_type": "code",
      "source": [
        "def calculate_eigenvalues_np(matrix: list[list[float|int]]) -> list[float]:\n",
        "  if not matrix:\n",
        "    return None\n",
        "  return list(np.linalg.eig(matrix).eigenvalues)"
      ],
      "metadata": {
        "id": "tNjzRD2ci23l"
      },
      "execution_count": null,
      "outputs": []
    },
    {
      "cell_type": "code",
      "source": [
        "def calculate_eigenvalues(matrix: list[list[float]]) -> list[float]:\n",
        "    a, b, c, d = matrix[0][0], matrix[0][1], matrix[1][0], matrix[1][1]\n",
        "    trace = a + d\n",
        "    determinant = a * d - b * c\n",
        "    # Calculate the discriminant of the quadratic equation\n",
        "    discriminant = trace**2 - 4 * determinant\n",
        "    # Solve for eigenvalues\n",
        "    lambda_1 = (trace + discriminant**0.5) / 2\n",
        "    lambda_2 = (trace - discriminant**0.5) / 2\n",
        "    return [lambda_1, lambda_2]"
      ],
      "metadata": {
        "id": "BTAN3dVSjvMd"
      },
      "execution_count": null,
      "outputs": []
    },
    {
      "cell_type": "code",
      "source": [
        "matrix = [[2, 1], [1, 2]]\n",
        "print(calculate_eigenvalues_np(matrix))"
      ],
      "metadata": {
        "colab": {
          "base_uri": "https://localhost:8080/"
        },
        "id": "U3VtmVSzjU84",
        "outputId": "b678e3c2-db32-4273-e77e-47d074ca9fe0"
      },
      "execution_count": null,
      "outputs": [
        {
          "output_type": "stream",
          "name": "stdout",
          "text": [
            "[np.float64(3.0), np.float64(1.0)]\n"
          ]
        }
      ]
    },
    {
      "cell_type": "code",
      "source": [
        "def inverse_2x2(matrix: list[list[float]]) -> list[list[float]]:\n",
        "  a, b, c, d = matrix[0][0], matrix[0][1], matrix[1][0], matrix[1][1]\n",
        "  determinant = a * d - b * c\n",
        "  if determinant == 0:\n",
        "    return None\n",
        "  return [[d / determinant, -b / determinant], [-c / determinant, a / determinant]]"
      ],
      "metadata": {
        "id": "UWQZ9DhCljxE"
      },
      "execution_count": null,
      "outputs": []
    },
    {
      "cell_type": "code",
      "source": [
        "print(inverse_2x2(matrix))"
      ],
      "metadata": {
        "colab": {
          "base_uri": "https://localhost:8080/"
        },
        "id": "nJKAIQFpjuV0",
        "outputId": "e9efb1be-5b31-4e7a-8101-2d8999870b27"
      },
      "execution_count": null,
      "outputs": [
        {
          "output_type": "stream",
          "name": "stdout",
          "text": [
            "[[0.6666666666666666, -0.3333333333333333], [-0.3333333333333333, 0.6666666666666666]]\n"
          ]
        }
      ]
    }
  ]
}